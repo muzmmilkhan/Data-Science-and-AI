{
 "cells": [
  {
   "cell_type": "markdown",
   "id": "f5565661",
   "metadata": {},
   "source": [
    "<span style=\"color: orange;\">Lists</span>\n",
    "\n",
    "- Lists are ordered sequence of mixed data type\n",
    "- List are written in comma separated elements within square brackets\n"
   ]
  },
  {
   "cell_type": "code",
   "execution_count": 1,
   "id": "5ec8e37d",
   "metadata": {},
   "outputs": [],
   "source": [
    "lst1 = [\"India\", 5, \"Delhi\"]"
   ]
  },
  {
   "cell_type": "code",
   "execution_count": 2,
   "id": "ee21fb69",
   "metadata": {},
   "outputs": [
    {
     "data": {
      "text/plain": [
       "['India', 5, 'Delhi']"
      ]
     },
     "execution_count": 2,
     "metadata": {},
     "output_type": "execute_result"
    }
   ],
   "source": [
    "lst1"
   ]
  },
  {
   "cell_type": "code",
   "execution_count": 3,
   "id": "5784f02b",
   "metadata": {},
   "outputs": [
    {
     "data": {
      "text/plain": [
       "3"
      ]
     },
     "execution_count": 3,
     "metadata": {},
     "output_type": "execute_result"
    }
   ],
   "source": [
    "len(lst1)"
   ]
  },
  {
   "cell_type": "code",
   "execution_count": 4,
   "id": "89dbcbff",
   "metadata": {},
   "outputs": [],
   "source": [
    "cust_info = ['Muzmmil', 32, 'India', 12000, 14000, '1GB']"
   ]
  },
  {
   "cell_type": "code",
   "execution_count": 5,
   "id": "f7c18bad",
   "metadata": {},
   "outputs": [
    {
     "data": {
      "text/plain": [
       "list"
      ]
     },
     "execution_count": 5,
     "metadata": {},
     "output_type": "execute_result"
    }
   ],
   "source": [
    "type(cust_info)"
   ]
  },
  {
   "cell_type": "code",
   "execution_count": 6,
   "id": "209148cb",
   "metadata": {},
   "outputs": [],
   "source": [
    "lst2 = [\"India\", 5, \"Delhi\", 10, ['Rajkot', 'Delhi']]"
   ]
  },
  {
   "cell_type": "code",
   "execution_count": 8,
   "id": "e406d14b",
   "metadata": {},
   "outputs": [
    {
     "data": {
      "text/plain": [
       "'India'"
      ]
     },
     "execution_count": 8,
     "metadata": {},
     "output_type": "execute_result"
    }
   ],
   "source": [
    "lst2[0]"
   ]
  },
  {
   "cell_type": "code",
   "execution_count": 11,
   "id": "d812aae7",
   "metadata": {},
   "outputs": [
    {
     "data": {
      "text/plain": [
       "'Rajkot'"
      ]
     },
     "execution_count": 11,
     "metadata": {},
     "output_type": "execute_result"
    }
   ],
   "source": [
    "lst2[4][0]"
   ]
  },
  {
   "cell_type": "code",
   "execution_count": 13,
   "id": "9f5adbdf",
   "metadata": {},
   "outputs": [
    {
     "data": {
      "text/plain": [
       "'Rajkot'"
      ]
     },
     "execution_count": 13,
     "metadata": {},
     "output_type": "execute_result"
    }
   ],
   "source": [
    "lst2[-1][-2]"
   ]
  },
  {
   "cell_type": "code",
   "execution_count": 14,
   "id": "433b6cbe",
   "metadata": {},
   "outputs": [
    {
     "data": {
      "text/plain": [
       "'Rajkot'"
      ]
     },
     "execution_count": 14,
     "metadata": {},
     "output_type": "execute_result"
    }
   ],
   "source": [
    "lst2[-1][0]\n"
   ]
  },
  {
   "cell_type": "markdown",
   "id": "60223853",
   "metadata": {},
   "source": [
    "### Indexing"
   ]
  },
  {
   "cell_type": "code",
   "execution_count": 15,
   "id": "d9c04201",
   "metadata": {},
   "outputs": [
    {
     "data": {
      "text/plain": [
       "'India'"
      ]
     },
     "execution_count": 15,
     "metadata": {},
     "output_type": "execute_result"
    }
   ],
   "source": [
    "lst2[0]"
   ]
  },
  {
   "cell_type": "markdown",
   "id": "51431847",
   "metadata": {},
   "source": [
    "### Slicing"
   ]
  },
  {
   "cell_type": "code",
   "execution_count": 16,
   "id": "280f0be6",
   "metadata": {},
   "outputs": [
    {
     "data": {
      "text/plain": [
       "['Rajkot', 'Delhi']"
      ]
     },
     "execution_count": 16,
     "metadata": {},
     "output_type": "execute_result"
    }
   ],
   "source": [
    "lst2[-1]"
   ]
  },
  {
   "cell_type": "code",
   "execution_count": 17,
   "id": "9c013d24",
   "metadata": {},
   "outputs": [
    {
     "data": {
      "text/plain": [
       "['India', 5, 'Delhi']"
      ]
     },
     "execution_count": 17,
     "metadata": {},
     "output_type": "execute_result"
    }
   ],
   "source": [
    "lst2[0:3]"
   ]
  },
  {
   "cell_type": "markdown",
   "id": "7f236acc",
   "metadata": {},
   "source": [
    "### List Concat"
   ]
  },
  {
   "cell_type": "code",
   "execution_count": 20,
   "id": "5cac23d2",
   "metadata": {},
   "outputs": [],
   "source": [
    "lst1 = [1,2,3,4]\n",
    "lst2 = [5,6,7,8]\n",
    "\n",
    "new_lst = lst1 + lst2"
   ]
  },
  {
   "cell_type": "code",
   "execution_count": 21,
   "id": "caa8654f",
   "metadata": {},
   "outputs": [
    {
     "data": {
      "text/plain": [
       "[1, 2, 3, 4, 5, 6, 7, 8]"
      ]
     },
     "execution_count": 21,
     "metadata": {},
     "output_type": "execute_result"
    }
   ],
   "source": [
    "new_lst"
   ]
  },
  {
   "cell_type": "markdown",
   "id": "5e9257fa",
   "metadata": {},
   "source": [
    "### String Concat"
   ]
  },
  {
   "cell_type": "code",
   "execution_count": 22,
   "id": "b0b916ad",
   "metadata": {},
   "outputs": [
    {
     "data": {
      "text/plain": [
       "'HelloWorld'"
      ]
     },
     "execution_count": 22,
     "metadata": {},
     "output_type": "execute_result"
    }
   ],
   "source": [
    "a = \"Hello\"\n",
    "b = \"World\"\n",
    "a + b"
   ]
  },
  {
   "cell_type": "code",
   "execution_count": 23,
   "id": "d7cfb229",
   "metadata": {},
   "outputs": [
    {
     "data": {
      "text/plain": [
       "True"
      ]
     },
     "execution_count": 23,
     "metadata": {},
     "output_type": "execute_result"
    }
   ],
   "source": [
    "lst3 = [1,2,3,4]\n",
    "1 in lst3"
   ]
  },
  {
   "cell_type": "markdown",
   "id": "911a0572",
   "metadata": {},
   "source": [
    "### Mutability"
   ]
  },
  {
   "cell_type": "code",
   "execution_count": 24,
   "id": "be0b577b",
   "metadata": {},
   "outputs": [],
   "source": [
    "lst1 = ['Maths', 'Physics', 'Chemistry', 'Biology']"
   ]
  },
  {
   "cell_type": "code",
   "execution_count": 25,
   "id": "021ef93a",
   "metadata": {},
   "outputs": [],
   "source": [
    "lst1[3] = 'Computer Science'"
   ]
  },
  {
   "cell_type": "code",
   "execution_count": 26,
   "id": "82afef82",
   "metadata": {},
   "outputs": [
    {
     "data": {
      "text/plain": [
       "['Maths', 'Physics', 'Chemistry', 'Computer Science']"
      ]
     },
     "execution_count": 26,
     "metadata": {},
     "output_type": "execute_result"
    }
   ],
   "source": [
    "\n",
    "lst1"
   ]
  },
  {
   "cell_type": "code",
   "execution_count": 27,
   "id": "e744594c",
   "metadata": {},
   "outputs": [
    {
     "data": {
      "text/plain": [
       "6"
      ]
     },
     "execution_count": 27,
     "metadata": {},
     "output_type": "execute_result"
    }
   ],
   "source": [
    "lst1 = [1,2,3,4]\n",
    "lst1.extend([5,6])\n",
    "len(lst1)"
   ]
  },
  {
   "cell_type": "code",
   "execution_count": 28,
   "id": "2cf1045a",
   "metadata": {},
   "outputs": [
    {
     "data": {
      "text/plain": [
       "[1, 2, 3, 4, 5, 6]"
      ]
     },
     "execution_count": 28,
     "metadata": {},
     "output_type": "execute_result"
    }
   ],
   "source": [
    "lst1"
   ]
  },
  {
   "cell_type": "code",
   "execution_count": 29,
   "id": "4b95b392",
   "metadata": {},
   "outputs": [],
   "source": [
    "lst1 = [1,2,3,4]\n",
    "lst1.append([5,6])"
   ]
  },
  {
   "cell_type": "code",
   "execution_count": 30,
   "id": "dd37d538",
   "metadata": {},
   "outputs": [
    {
     "data": {
      "text/plain": [
       "[1, 2, 3, 4, [5, 6]]"
      ]
     },
     "execution_count": 30,
     "metadata": {},
     "output_type": "execute_result"
    }
   ],
   "source": [
    "lst1"
   ]
  },
  {
   "cell_type": "code",
   "execution_count": 31,
   "id": "3f4075db",
   "metadata": {},
   "outputs": [
    {
     "data": {
      "text/plain": [
       "[5, 6]"
      ]
     },
     "execution_count": 31,
     "metadata": {},
     "output_type": "execute_result"
    }
   ],
   "source": [
    "lst1.pop()"
   ]
  },
  {
   "cell_type": "code",
   "execution_count": 32,
   "id": "e8de67d8",
   "metadata": {},
   "outputs": [
    {
     "data": {
      "text/plain": [
       "[1, 2, 3, 4]"
      ]
     },
     "execution_count": 32,
     "metadata": {},
     "output_type": "execute_result"
    }
   ],
   "source": [
    "lst1"
   ]
  },
  {
   "cell_type": "code",
   "execution_count": 33,
   "id": "c1da0c91",
   "metadata": {},
   "outputs": [],
   "source": [
    "lst1.remove(2)"
   ]
  },
  {
   "cell_type": "code",
   "execution_count": 34,
   "id": "325465e3",
   "metadata": {},
   "outputs": [
    {
     "data": {
      "text/plain": [
       "[1, 3, 4]"
      ]
     },
     "execution_count": 34,
     "metadata": {},
     "output_type": "execute_result"
    }
   ],
   "source": [
    "lst1"
   ]
  },
  {
   "cell_type": "code",
   "execution_count": 37,
   "id": "04b4c245",
   "metadata": {},
   "outputs": [],
   "source": [
    "A = [9,5,2, 1,12,7]\n",
    "A.sort()"
   ]
  },
  {
   "cell_type": "code",
   "execution_count": 38,
   "id": "645830cc",
   "metadata": {},
   "outputs": [
    {
     "data": {
      "text/plain": [
       "[1, 2, 5, 7, 9, 12]"
      ]
     },
     "execution_count": 38,
     "metadata": {},
     "output_type": "execute_result"
    }
   ],
   "source": [
    "A"
   ]
  },
  {
   "cell_type": "code",
   "execution_count": 39,
   "id": "eb53950b",
   "metadata": {},
   "outputs": [],
   "source": [
    "A.sort(reverse=True)"
   ]
  },
  {
   "cell_type": "code",
   "execution_count": 40,
   "id": "afa71d41",
   "metadata": {},
   "outputs": [
    {
     "data": {
      "text/plain": [
       "[12, 9, 7, 5, 2, 1]"
      ]
     },
     "execution_count": 40,
     "metadata": {},
     "output_type": "execute_result"
    }
   ],
   "source": [
    "A"
   ]
  },
  {
   "cell_type": "code",
   "execution_count": 41,
   "id": "0e5d7e2b",
   "metadata": {},
   "outputs": [],
   "source": [
    "B = A.sort(reverse=True)\n",
    " "
   ]
  },
  {
   "cell_type": "code",
   "execution_count": 42,
   "id": "3a1e0510",
   "metadata": {},
   "outputs": [],
   "source": [
    "B"
   ]
  },
  {
   "cell_type": "code",
   "execution_count": 43,
   "id": "688a9f49",
   "metadata": {},
   "outputs": [],
   "source": [
    "B = sorted(A)"
   ]
  },
  {
   "cell_type": "code",
   "execution_count": 44,
   "id": "3252f690",
   "metadata": {},
   "outputs": [
    {
     "data": {
      "text/plain": [
       "[1, 2, 5, 7, 9, 12]"
      ]
     },
     "execution_count": 44,
     "metadata": {},
     "output_type": "execute_result"
    }
   ],
   "source": [
    "B"
   ]
  },
  {
   "cell_type": "markdown",
   "id": "580766c8",
   "metadata": {},
   "source": [
    "### Shallow Copy"
   ]
  },
  {
   "cell_type": "code",
   "execution_count": 45,
   "id": "8b1db0a8",
   "metadata": {},
   "outputs": [],
   "source": [
    "A = ['Oranges', 'Stawberry', 'Mango']\n",
    "B = A"
   ]
  },
  {
   "cell_type": "code",
   "execution_count": 46,
   "id": "724bbe7d",
   "metadata": {},
   "outputs": [
    {
     "name": "stdout",
     "output_type": "stream",
     "text": [
      "['Oranges', 'Stawberry', 'Mango']\n",
      "['Oranges', 'Stawberry', 'Mango']\n"
     ]
    }
   ],
   "source": [
    "print(A)\n",
    "print(B)"
   ]
  },
  {
   "cell_type": "code",
   "execution_count": 47,
   "id": "216dd95e",
   "metadata": {},
   "outputs": [
    {
     "data": {
      "text/plain": [
       "'Mango'"
      ]
     },
     "execution_count": 47,
     "metadata": {},
     "output_type": "execute_result"
    }
   ],
   "source": [
    "A.pop()"
   ]
  },
  {
   "cell_type": "code",
   "execution_count": 48,
   "id": "89705061",
   "metadata": {},
   "outputs": [
    {
     "data": {
      "text/plain": [
       "['Oranges', 'Stawberry']"
      ]
     },
     "execution_count": 48,
     "metadata": {},
     "output_type": "execute_result"
    }
   ],
   "source": [
    "A"
   ]
  },
  {
   "cell_type": "code",
   "execution_count": 49,
   "id": "d98c0ebe",
   "metadata": {},
   "outputs": [
    {
     "data": {
      "text/plain": [
       "['Oranges', 'Stawberry']"
      ]
     },
     "execution_count": 49,
     "metadata": {},
     "output_type": "execute_result"
    }
   ],
   "source": [
    "B"
   ]
  },
  {
   "cell_type": "code",
   "execution_count": 50,
   "id": "b9267de1",
   "metadata": {},
   "outputs": [],
   "source": [
    "A = ['Oranges', 'Stawberry', 'Mango']\n",
    "B = A[:]"
   ]
  },
  {
   "cell_type": "code",
   "execution_count": 51,
   "id": "536c9b95",
   "metadata": {},
   "outputs": [
    {
     "data": {
      "text/plain": [
       "['Oranges', 'Stawberry', 'Mango']"
      ]
     },
     "execution_count": 51,
     "metadata": {},
     "output_type": "execute_result"
    }
   ],
   "source": [
    "A"
   ]
  },
  {
   "cell_type": "code",
   "execution_count": 52,
   "id": "17566602",
   "metadata": {},
   "outputs": [
    {
     "data": {
      "text/plain": [
       "['Oranges', 'Stawberry', 'Mango']"
      ]
     },
     "execution_count": 52,
     "metadata": {},
     "output_type": "execute_result"
    }
   ],
   "source": [
    "B"
   ]
  },
  {
   "cell_type": "code",
   "execution_count": 53,
   "id": "bba6d396",
   "metadata": {},
   "outputs": [
    {
     "data": {
      "text/plain": [
       "'Mango'"
      ]
     },
     "execution_count": 53,
     "metadata": {},
     "output_type": "execute_result"
    }
   ],
   "source": [
    "A.pop()"
   ]
  },
  {
   "cell_type": "code",
   "execution_count": 54,
   "id": "6761d509",
   "metadata": {},
   "outputs": [
    {
     "data": {
      "text/plain": [
       "['Oranges', 'Stawberry']"
      ]
     },
     "execution_count": 54,
     "metadata": {},
     "output_type": "execute_result"
    }
   ],
   "source": [
    "A"
   ]
  },
  {
   "cell_type": "code",
   "execution_count": 55,
   "id": "c0741d30",
   "metadata": {},
   "outputs": [
    {
     "data": {
      "text/plain": [
       "['Oranges', 'Stawberry', 'Mango']"
      ]
     },
     "execution_count": 55,
     "metadata": {},
     "output_type": "execute_result"
    }
   ],
   "source": [
    "B"
   ]
  },
  {
   "cell_type": "code",
   "execution_count": 56,
   "id": "10e28045",
   "metadata": {},
   "outputs": [],
   "source": [
    "input_str = \"Muzmmil_Pathan_003\""
   ]
  },
  {
   "cell_type": "code",
   "execution_count": 57,
   "id": "3b873363",
   "metadata": {},
   "outputs": [
    {
     "data": {
      "text/plain": [
       "['Muzmmil', 'Pathan', '003']"
      ]
     },
     "execution_count": 57,
     "metadata": {},
     "output_type": "execute_result"
    }
   ],
   "source": [
    "input_str.split('_')"
   ]
  }
 ],
 "metadata": {
  "kernelspec": {
   "display_name": "Python 3",
   "language": "python",
   "name": "python3"
  },
  "language_info": {
   "codemirror_mode": {
    "name": "ipython",
    "version": 3
   },
   "file_extension": ".py",
   "mimetype": "text/x-python",
   "name": "python",
   "nbconvert_exporter": "python",
   "pygments_lexer": "ipython3",
   "version": "3.11.13"
  }
 },
 "nbformat": 4,
 "nbformat_minor": 5
}
